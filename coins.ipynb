{
 "cells": [
  {
   "cell_type": "code",
   "execution_count": null,
   "id": "264dd13c",
   "metadata": {},
   "outputs": [],
   "source": [
    "n = 95"
   ]
  },
  {
   "cell_type": "code",
   "execution_count": null,
   "id": "780b02e6",
   "metadata": {},
   "outputs": [],
   "source": [
    "%%time\n",
    "#%%timeit\n",
    "\n",
    "for d in range(n // 10 + 1):\n",
    "    for f in range(n // 5 + 1):\n",
    "        for t in range(n // 2 + 1):\n",
    "            for o in range(n + 1):\n",
    "                if 10 * d + 5 * f + 2 * t + o == n:\n",
    "                    #pass\n",
    "                    print(d, \"tens,\", f, \"fives,\", t, \"twos,\", o, \"ones.\")"
   ]
  },
  {
   "cell_type": "code",
   "execution_count": null,
   "id": "244d370c",
   "metadata": {},
   "outputs": [],
   "source": [
    "%%time\n",
    "#%%timeit\n",
    "\n",
    "for d in range(n // 10 + 1):\n",
    "    for f in range((n - 10 * d)// 5 + 1):\n",
    "        for t in range((n - 10 * d - 5 * f) // 2 + 1):\n",
    "            o = n - 10 * d - 5 * f - 2 * t\n",
    "            #pass\n",
    "            print(d, \"tens,\", f, \"fives,\", t, \"twos,\", o, \"ones.\")"
   ]
  },
  {
   "cell_type": "code",
   "execution_count": null,
   "id": "7c6cd416",
   "metadata": {},
   "outputs": [],
   "source": []
  }
 ],
 "metadata": {
  "kernelspec": {
   "display_name": "Python 3 (ipykernel)",
   "language": "python",
   "name": "python3"
  },
  "language_info": {
   "codemirror_mode": {
    "name": "ipython",
    "version": 3
   },
   "file_extension": ".py",
   "mimetype": "text/x-python",
   "name": "python",
   "nbconvert_exporter": "python",
   "pygments_lexer": "ipython3",
   "version": "3.9.15"
  }
 },
 "nbformat": 4,
 "nbformat_minor": 5
}
